{
  "nbformat": 4,
  "nbformat_minor": 0,
  "metadata": {
    "colab": {
      "name": "exercise random forests..ipynb",
      "provenance": [],
      "authorship_tag": "ABX9TyPp3dwirxtigLR+WWTc0Paz",
      "include_colab_link": true
    },
    "kernelspec": {
      "name": "python3",
      "display_name": "Python 3"
    },
    "language_info": {
      "name": "python"
    }
  },
  "cells": [
    {
      "cell_type": "markdown",
      "metadata": {
        "id": "view-in-github",
        "colab_type": "text"
      },
      "source": [
        "<a href=\"https://colab.research.google.com/github/keripikkecoa/Tugas-machine-learning/blob/main/exercise_random_forests_.ipynb\" target=\"_parent\"><img src=\"https://colab.research.google.com/assets/colab-badge.svg\" alt=\"Open In Colab\"/></a>"
      ]
    },
    {
      "cell_type": "code",
      "metadata": {
        "colab": {
          "base_uri": "https://localhost:8080/"
        },
        "id": "CrLw9ij8gq5r",
        "outputId": "30a91131-d8dc-4773-8b9c-6b11efa5deff"
      },
      "source": [
        "# Code you have previously used to load data\n",
        "import pandas as pd\n",
        "from sklearn.metrics import mean_absolute_error\n",
        "from sklearn.model_selection import train_test_split\n",
        "from sklearn.tree import DecisionTreeRegressor\n",
        "\n",
        "\n",
        "# Path of the file to read\n",
        "iowa_file_path = '/content/train.csv'\n",
        "\n",
        "home_data = pd.read_csv(iowa_file_path)\n",
        "# Create target object and call it y\n",
        "y = home_data.SalePrice\n",
        "# Create X\n",
        "features = ['LotArea', 'YearBuilt', '1stFlrSF', '2ndFlrSF', 'FullBath', 'BedroomAbvGr', 'TotRmsAbvGrd']\n",
        "X = home_data[features]\n",
        "\n",
        "# Split into validation and training data\n",
        "train_X, val_X, train_y, val_y = train_test_split(X, y, random_state=1)\n",
        "\n",
        "# Specify Model\n",
        "iowa_model = DecisionTreeRegressor(random_state=1)\n",
        "# Fit Model\n",
        "iowa_model.fit(train_X, train_y)\n",
        "\n",
        "# Make validation predictions and calculate mean absolute error\n",
        "val_predictions = iowa_model.predict(val_X)\n",
        "val_mae = mean_absolute_error(val_predictions, val_y)\n",
        "print(\"Validation MAE when not specifying max_leaf_nodes: {:,.0f}\".format(val_mae))\n",
        "\n",
        "# Using best value for max_leaf_nodes\n",
        "iowa_model = DecisionTreeRegressor(max_leaf_nodes=100, random_state=1)\n",
        "iowa_model.fit(train_X, train_y)\n",
        "val_predictions = iowa_model.predict(val_X)\n",
        "val_mae = mean_absolute_error(val_predictions, val_y)\n",
        "print(\"Validation MAE for best value of max_leaf_nodes: {:,.0f}\".format(val_mae))\n",
        "\n",
        "\n",
        "# Set up code checking\n",
        "from learntools.core import binder\n",
        "binder.bind(globals())\n",
        "from learntools.machine_learning.ex6 import *\n",
        "print(\"\\nSetup complete\")"
      ],
      "execution_count": 5,
      "outputs": [
        {
          "output_type": "stream",
          "name": "stdout",
          "text": [
            "Validation MAE when not specifying max_leaf_nodes: 29,653\n",
            "Validation MAE for best value of max_leaf_nodes: 27,283\n",
            "\n",
            "Setup complete\n"
          ]
        }
      ]
    },
    {
      "cell_type": "code",
      "metadata": {
        "colab": {
          "base_uri": "https://localhost:8080/"
        },
        "id": "C0P7ZOR0fM1z",
        "outputId": "404fa6c0-a469-483c-a683-a66437e2d8cf"
      },
      "source": [
        "!pip install git+https://github.com/ML-Challenge/learntools.git\n"
      ],
      "execution_count": 4,
      "outputs": [
        {
          "output_type": "stream",
          "name": "stdout",
          "text": [
            "Collecting git+https://github.com/ML-Challenge/learntools.git\n",
            "  Cloning https://github.com/ML-Challenge/learntools.git to /tmp/pip-req-build-1koype0t\n",
            "  Running command git clone -q https://github.com/ML-Challenge/learntools.git /tmp/pip-req-build-1koype0t\n",
            "Building wheels for collected packages: learntools\n",
            "  Building wheel for learntools (setup.py) ... \u001b[?25l\u001b[?25hdone\n",
            "  Created wheel for learntools: filename=learntools-0.3.4-py3-none-any.whl size=207310 sha256=1714b59bf8a8e1f1103638b38a13d235a2cc1f73912e235fae4a591ec9f01206\n",
            "  Stored in directory: /tmp/pip-ephem-wheel-cache-9h6oeg30/wheels/5e/42/53/aa3198486cfc460e19152f9f799b8d0f549cb88f492acb6033\n",
            "Successfully built learntools\n",
            "Installing collected packages: learntools\n",
            "Successfully installed learntools-0.3.4\n"
          ]
        }
      ]
    },
    {
      "cell_type": "code",
      "metadata": {
        "colab": {
          "base_uri": "https://localhost:8080/",
          "height": 63
        },
        "id": "KEEoop1Zgq_g",
        "outputId": "ce63ae9e-75b3-4ffe-8ed8-aa2d1a5f4671"
      },
      "source": [
        "from sklearn.ensemble import RandomForestRegressor\n",
        "\n",
        "# Define the model. Set random_state to 1\n",
        "rf_model = RandomForestRegressor(random_state=1)\n",
        "\n",
        "# fit your model\n",
        "rf_model.fit(train_X, train_y)\n",
        "\n",
        "# Calculate the mean absolute error of your Random Forest model on the validation data\n",
        "\n",
        "rf_val_predictions = rf_model.predict(val_X)\n",
        "rf_val_mae = mean_absolute_error(rf_val_predictions, val_y)\n",
        "print(\"Validation MAE for Random Forest Model: {}\".format(rf_val_mae))\n",
        "\n",
        "# Check your answer\n",
        "step_1.check()"
      ],
      "execution_count": 6,
      "outputs": [
        {
          "output_type": "stream",
          "name": "stdout",
          "text": [
            "Validation MAE for Random Forest Model: 21857.15912981083\n"
          ]
        },
        {
          "output_type": "display_data",
          "data": {
            "application/javascript": [
              "parent.postMessage({\"jupyterEvent\": \"custom.exercise_interaction\", \"data\": {\"outcomeType\": 1, \"valueTowardsCompletion\": 1.0, \"interactionType\": 1, \"questionType\": 2, \"questionId\": \"1_CheckRfScore\", \"learnToolsVersion\": \"0.3.4\", \"failureMessage\": \"\", \"exceptionClass\": \"\", \"trace\": \"\"}}, \"*\")"
            ],
            "text/plain": [
              "<IPython.core.display.Javascript object>"
            ]
          },
          "metadata": {}
        },
        {
          "output_type": "display_data",
          "data": {
            "text/markdown": "<span style=\"color:#33cc33\">Correct</span>",
            "text/plain": [
              "Correct"
            ]
          },
          "metadata": {}
        }
      ]
    },
    {
      "cell_type": "code",
      "metadata": {
        "id": "HCcnoEpxi8Hd",
        "colab": {
          "base_uri": "https://localhost:8080/",
          "height": 205
        },
        "outputId": "882f005c-88ba-406a-aa41-90dbe6437620"
      },
      "source": [
        "step_1.hint() \n",
        "step_1.solution()"
      ],
      "execution_count": 7,
      "outputs": [
        {
          "output_type": "display_data",
          "data": {
            "application/javascript": [
              "parent.postMessage({\"jupyterEvent\": \"custom.exercise_interaction\", \"data\": {\"interactionType\": 2, \"questionType\": 2, \"questionId\": \"1_CheckRfScore\", \"learnToolsVersion\": \"0.3.4\", \"valueTowardsCompletion\": 0.0, \"failureMessage\": \"\", \"exceptionClass\": \"\", \"trace\": \"\", \"outcomeType\": 4}}, \"*\")"
            ],
            "text/plain": [
              "<IPython.core.display.Javascript object>"
            ]
          },
          "metadata": {}
        },
        {
          "output_type": "display_data",
          "data": {
            "text/markdown": "<span style=\"color:#3366cc\">Hint:</span> Review the code above with a DecisionTreeRegressor. Use the RandomForestRegressor instead",
            "text/plain": [
              "Hint: Review the code above with a DecisionTreeRegressor. Use the RandomForestRegressor instead"
            ]
          },
          "metadata": {}
        },
        {
          "output_type": "display_data",
          "data": {
            "application/javascript": [
              "parent.postMessage({\"jupyterEvent\": \"custom.exercise_interaction\", \"data\": {\"interactionType\": 3, \"questionType\": 2, \"questionId\": \"1_CheckRfScore\", \"learnToolsVersion\": \"0.3.4\", \"valueTowardsCompletion\": 0.0, \"failureMessage\": \"\", \"exceptionClass\": \"\", \"trace\": \"\", \"outcomeType\": 4}}, \"*\")"
            ],
            "text/plain": [
              "<IPython.core.display.Javascript object>"
            ]
          },
          "metadata": {}
        },
        {
          "output_type": "display_data",
          "data": {
            "text/markdown": "<span style=\"color:#33cc99\">Solution:</span> \n```python\nrf_model = RandomForestRegressor()\n\n# fit your model\nrf_model.fit(train_X, train_y)\n\n# Calculate the mean absolute error of your Random Forest model on the validation data\nrf_val_predictions = rf_model.predict(val_X)\nrf_val_mae = mean_absolute_error(rf_val_predictions, val_y)\n\n```",
            "text/plain": [
              "Solution: \n",
              "```python\n",
              "rf_model = RandomForestRegressor()\n",
              "\n",
              "# fit your model\n",
              "rf_model.fit(train_X, train_y)\n",
              "\n",
              "# Calculate the mean absolute error of your Random Forest model on the validation data\n",
              "rf_val_predictions = rf_model.predict(val_X)\n",
              "rf_val_mae = mean_absolute_error(rf_val_predictions, val_y)\n",
              "\n",
              "```"
            ]
          },
          "metadata": {}
        }
      ]
    }
  ]
}